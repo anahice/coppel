{
 "cells": [
  {
   "cell_type": "markdown",
   "metadata": {},
   "source": [
    "    ╔═══╗                ╔╗ \n",
    "    ║╔═╗║                ║║ \n",
    "    ║║ ╚╝╔══╗╔══╗╔══╗╔══╗║║ \n",
    "    ║║ ╔╗║╔╗║║╔╗║║╔╗║║╔╗║║║ \n",
    "    ║╚═╝║║╚╝║║╚╝║║╚╝║║║═╣║╚╗\n",
    "    ╚═══╝╚══╝║╔═╝║╔═╝╚══╝╚═╝\n",
    "             ║║  ║║         \n",
    "             ╚╝  ╚╝         \n"
   ]
  },
  {
   "cell_type": "markdown",
   "metadata": {},
   "source": [
    "<h1><strong>Coppel</strong><br /><strong>Funding Challenge!</strong></h1>\n",
    "<blockquote><p>Your mission, Mr Phelps, should you choose to accept it,...</p> <footer>—Mission Impossible</footer><blockquote>\n"
   ]
  },
  {
   "cell_type": "markdown",
   "metadata": {},
   "source": [
    "<hr>\n",
    "<p>Bienvenid@ al Funding Challenge, la idea es que en este jupyter notebook desarrolles un mini proyecto para que nos permitas conocer la manera en la que trabajas alrededor de un proyecto de Data Science.</p>\n",
    "<h2>Descripción</h2>\n",
    "\n",
    "\n",
    "\n",
    "<p>En escuelas de E.U.A los maestros desarrollan proyectos para mejorar las condiciones de los estudiantes, resolver problemáticas como el bullying, mejorar el prendizaje, etc. El dataset <b>Projects_cleansed.zip</b> esta formado por las siguientes columnas:<br>\n",
    "</p>\n",
    "\n",
    "<b>Project Title</b> - Nombre del Proyecto<br>\n",
    "<b>Project Short Description </b> - Descripción corta (198 palabras aprox) y el final de la descripción esta indicada por \"...\"<br>\n",
    "<b>Project Subject Category Tree</b> - es una taxonomía que indica el área al que pertenece el proyecto<br>\n",
    "<b>Project Cost</b> - es un campo númerico que indica la cantidad que se busca fondear<br>\n",
    "<b>Project Current Status</b> - Si el proyecto fué fondedado o no<br>\n",
    "\n"
   ]
  },
  {
   "cell_type": "markdown",
   "metadata": {},
   "source": [
    "<hr>"
   ]
  },
  {
   "cell_type": "markdown",
   "metadata": {},
   "source": [
    "<h1>Instrucciones</h1>\n",
    "<p>Para desarrollar el mini-proyecto debes:</p>\n",
    "<ul>\n",
    "    <li>Antes de trabajar crear un branch el cual nombrarás usando tu nombre de pila</li>\n",
    "    <li>Usar Python3</li>\n",
    "    <li>Tienes la posibilidad de usar cualquier librería de python en tu toolset que veas apropiada y que puedas llamar dentro de este Jupyter Notebook</li>\n",
    "</ul>\n",
    "<p>Sin embargo como bien sabes todo proyecto de Data Science tiene etapas muy específicas y que pueden ser intercambiables, por lo que almenos <b>se debe apreciar como:</b></p>\n",
    "<ol>\n",
    "    <li>analizas la data</li>\n",
    "    <li>generas/seleccionas los features</li>\n",
    "    <li>diseñas/implementas el modelo</li>\n",
    "    <li>entrenas el modelo </li>\n",
    "    <li>pruebas y evalúas el modelo </li>    \n",
    "</ol>\n",
    "\n",
    "<h2>Input</h2>\n",
    "<p>El modelo recibirá como entrada:\n",
    "    <ul>\n",
    "        <li><b>descripción</b>: Es una descripción textual sobre la que haremos la predicción</li>\n",
    "    </ul>\n",
    "<h2>Output</h2>\n",
    "<p>El output del modelo debe de ser una clasificación <b>1</b>:funded y <b>0</b>: not funded </p><br>\n",
    "<br>   \n",
    "<h2>Deadline!</h2>\n",
    "Para cumplir este reto tendras 1 semana (7 días) a partir de la recepción en tu correo, no quiero ver si sabes mucho o poco, sólo me interesa ver como estructuras la información y como trabajarías por tu cuenta, por lo que espero absoluta honestidad sobre que trataras de desarrollar este mini proyecto por tu cuenta y como lo harías tu si fuera un proyecto real en el que estarías trabajando tú sólo.\n",
    "\n",
    "<hr>\n"
   ]
  },
  {
   "cell_type": "markdown",
   "metadata": {},
   "source": [
    "<blockquote><p>As always, should you or any of your MI Force be caught or killed, the Secretary will disavow any knowledge of your actions. This jupyter notebook will self-destruct in 1 week. Good luck,</p> <footer>—Mission Impossible</footer><blockquote>\n"
   ]
  },
  {
   "cell_type": "code",
   "execution_count": null,
   "metadata": {},
   "outputs": [],
   "source": []
  },
  {
   "cell_type": "code",
   "execution_count": null,
   "metadata": {},
   "outputs": [],
   "source": []
  },
  {
   "cell_type": "code",
   "execution_count": null,
   "metadata": {},
   "outputs": [],
   "source": []
  },
  {
   "cell_type": "code",
   "execution_count": null,
   "metadata": {},
   "outputs": [],
   "source": []
  },
  {
   "cell_type": "code",
   "execution_count": null,
   "metadata": {},
   "outputs": [],
   "source": []
  },
  {
   "cell_type": "code",
   "execution_count": null,
   "metadata": {},
   "outputs": [],
   "source": []
  }
 ],
 "metadata": {
  "kernelspec": {
   "display_name": "py3env",
   "language": "python",
   "name": "py3env"
  },
  "language_info": {
   "codemirror_mode": {
    "name": "ipython",
    "version": 3
   },
   "file_extension": ".py",
   "mimetype": "text/x-python",
   "name": "python",
   "nbconvert_exporter": "python",
   "pygments_lexer": "ipython3",
   "version": "3.8.5"
  },
  "toc": {
   "base_numbering": 1,
   "nav_menu": {},
   "number_sections": true,
   "sideBar": true,
   "skip_h1_title": false,
   "title_cell": "Table of Contents",
   "title_sidebar": "Contents",
   "toc_cell": false,
   "toc_position": {
    "height": "calc(100% - 180px)",
    "left": "10px",
    "top": "150px",
    "width": "213.477px"
   },
   "toc_section_display": true,
   "toc_window_display": true
  }
 },
 "nbformat": 4,
 "nbformat_minor": 4
}
